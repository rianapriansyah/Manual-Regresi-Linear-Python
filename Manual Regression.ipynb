{
 "cells": [
  {
   "cell_type": "code",
   "execution_count": 1,
   "metadata": {},
   "outputs": [],
   "source": [
    "import pandas as pd\n",
    "import numpy as np"
   ]
  },
  {
   "cell_type": "code",
   "execution_count": 2,
   "metadata": {},
   "outputs": [],
   "source": [
    "Data = pd.read_csv('Data.csv')"
   ]
  },
  {
   "cell_type": "code",
   "execution_count": 6,
   "metadata": {},
   "outputs": [
    {
     "data": {
      "text/html": [
       "<div>\n",
       "<style scoped>\n",
       "    .dataframe tbody tr th:only-of-type {\n",
       "        vertical-align: middle;\n",
       "    }\n",
       "\n",
       "    .dataframe tbody tr th {\n",
       "        vertical-align: top;\n",
       "    }\n",
       "\n",
       "    .dataframe thead th {\n",
       "        text-align: right;\n",
       "    }\n",
       "</style>\n",
       "<table border=\"1\" class=\"dataframe\">\n",
       "  <thead>\n",
       "    <tr style=\"text-align: right;\">\n",
       "      <th></th>\n",
       "      <th>Y</th>\n",
       "      <th>X1</th>\n",
       "      <th>X2</th>\n",
       "    </tr>\n",
       "  </thead>\n",
       "  <tbody>\n",
       "    <tr>\n",
       "      <th>count</th>\n",
       "      <td>12.000000</td>\n",
       "      <td>12.000000</td>\n",
       "      <td>12.000000</td>\n",
       "    </tr>\n",
       "    <tr>\n",
       "      <th>mean</th>\n",
       "      <td>5.833333</td>\n",
       "      <td>6.833333</td>\n",
       "      <td>7.500000</td>\n",
       "    </tr>\n",
       "    <tr>\n",
       "      <th>std</th>\n",
       "      <td>1.337116</td>\n",
       "      <td>1.527525</td>\n",
       "      <td>2.276361</td>\n",
       "    </tr>\n",
       "    <tr>\n",
       "      <th>min</th>\n",
       "      <td>3.000000</td>\n",
       "      <td>4.000000</td>\n",
       "      <td>4.000000</td>\n",
       "    </tr>\n",
       "    <tr>\n",
       "      <th>25%</th>\n",
       "      <td>5.000000</td>\n",
       "      <td>6.000000</td>\n",
       "      <td>6.000000</td>\n",
       "    </tr>\n",
       "    <tr>\n",
       "      <th>50%</th>\n",
       "      <td>6.000000</td>\n",
       "      <td>7.000000</td>\n",
       "      <td>7.500000</td>\n",
       "    </tr>\n",
       "    <tr>\n",
       "      <th>75%</th>\n",
       "      <td>7.000000</td>\n",
       "      <td>8.000000</td>\n",
       "      <td>9.000000</td>\n",
       "    </tr>\n",
       "    <tr>\n",
       "      <th>max</th>\n",
       "      <td>8.000000</td>\n",
       "      <td>9.000000</td>\n",
       "      <td>12.000000</td>\n",
       "    </tr>\n",
       "  </tbody>\n",
       "</table>\n",
       "</div>"
      ],
      "text/plain": [
       "               Y         X1         X2\n",
       "count  12.000000  12.000000  12.000000\n",
       "mean    5.833333   6.833333   7.500000\n",
       "std     1.337116   1.527525   2.276361\n",
       "min     3.000000   4.000000   4.000000\n",
       "25%     5.000000   6.000000   6.000000\n",
       "50%     6.000000   7.000000   7.500000\n",
       "75%     7.000000   8.000000   9.000000\n",
       "max     8.000000   9.000000  12.000000"
      ]
     },
     "execution_count": 6,
     "metadata": {},
     "output_type": "execute_result"
    }
   ],
   "source": [
    "#check the basic statistical information about our data\n",
    "Data.describe()"
   ]
  },
  {
   "cell_type": "code",
   "execution_count": 6,
   "metadata": {},
   "outputs": [
    {
     "name": "stdout",
     "output_type": "stream",
     "text": [
      "70\n",
      "82\n",
      "90\n"
     ]
    }
   ],
   "source": [
    "##Manual##\n",
    "\n",
    "#Y\n",
    "Y = np.sum(Data['Y'])\n",
    "\n",
    "#X1\n",
    "X1 = np.sum(Data['X1'])\n",
    "\n",
    "#X2\n",
    "X2 = np.sum(Data['X2'])\n",
    "\n",
    "print(Y)\n",
    "print(X1)\n",
    "print(X2)"
   ]
  },
  {
   "cell_type": "code",
   "execution_count": 8,
   "metadata": {},
   "outputs": [
    {
     "data": {
      "text/plain": [
       "12"
      ]
     },
     "execution_count": 8,
     "metadata": {},
     "output_type": "execute_result"
    }
   ],
   "source": [
    "n = np.shape(Data)[0]\n",
    "n"
   ]
  },
  {
   "cell_type": "code",
   "execution_count": 11,
   "metadata": {},
   "outputs": [],
   "source": [
    "#create new numpy arrays to store Y,X1, and X2, so you don't have to create the loop\n",
    "\n",
    "data_y = np.array(Data['Y'])\n",
    "data_x1 = np.array(Data['X1'])\n",
    "data_x2 = np.array(Data['X2'])"
   ]
  },
  {
   "cell_type": "code",
   "execution_count": 12,
   "metadata": {},
   "outputs": [
    {
     "data": {
      "text/plain": [
       "500"
      ]
     },
     "execution_count": 12,
     "metadata": {},
     "output_type": "execute_result"
    }
   ],
   "source": [
    "#X1Y\n",
    "X1Y = data_x1 * data_y\n",
    "X1Y = np.sum(X1Y)\n",
    "X1Y"
   ]
  },
  {
   "cell_type": "code",
   "execution_count": 13,
   "metadata": {},
   "outputs": [
    {
     "data": {
      "text/plain": [
       "526"
      ]
     },
     "execution_count": 13,
     "metadata": {},
     "output_type": "execute_result"
    }
   ],
   "source": [
    "#X2Y\n",
    "X2Y = data_x2 * data_y\n",
    "X2Y = np.sum(X2Y)\n",
    "X2Y"
   ]
  },
  {
   "cell_type": "code",
   "execution_count": 14,
   "metadata": {},
   "outputs": [
    {
     "data": {
      "text/plain": [
       "614"
      ]
     },
     "execution_count": 14,
     "metadata": {},
     "output_type": "execute_result"
    }
   ],
   "source": [
    "#X1X2\n",
    "X1X2 = data_x1 * data_x2\n",
    "X1X2 = np.sum(X1X2)\n",
    "X1X2"
   ]
  },
  {
   "cell_type": "code",
   "execution_count": 15,
   "metadata": {},
   "outputs": [
    {
     "data": {
      "text/plain": [
       "586"
      ]
     },
     "execution_count": 15,
     "metadata": {},
     "output_type": "execute_result"
    }
   ],
   "source": [
    "#X1^2\n",
    "X12 = data_x1 ** 2\n",
    "X12 = np.sum(X12)\n",
    "X12"
   ]
  },
  {
   "cell_type": "code",
   "execution_count": 16,
   "metadata": {},
   "outputs": [
    {
     "data": {
      "text/plain": [
       "732"
      ]
     },
     "execution_count": 16,
     "metadata": {},
     "output_type": "execute_result"
    }
   ],
   "source": [
    "#X2^2\n",
    "X22 = data_x2 ** 2\n",
    "X22 = np.sum(X22)\n",
    "X22"
   ]
  },
  {
   "cell_type": "code",
   "execution_count": 17,
   "metadata": {},
   "outputs": [],
   "source": [
    "#A\n",
    "A = np.matrix([[n,X1,X2],[X1,X12,X1X2],[X2,X1X2,X22]])\n",
    "#A1\n",
    "A1 = np.matrix([[Y,X1,X2],[X1Y,X12,X1X2],[X2Y,X1X2,X22]])\n",
    "#A2\n",
    "A2 = np.matrix([[n,Y,X2],[X1,X1Y,X1X2],[X2,X2Y,X22]])\n",
    "#A3\n",
    "A3 = np.matrix([[n,X1,Y],[X1,X12,X1Y],[X2,X1X2,X2Y]])"
   ]
  },
  {
   "cell_type": "code",
   "execution_count": 21,
   "metadata": {},
   "outputs": [
    {
     "name": "stdout",
     "output_type": "stream",
     "text": [
      "Intercept -0.18650250797992385\n",
      "X1 0.8454172366621074\n",
      "X2 0.032375740994072054\n"
     ]
    }
   ],
   "source": [
    "b0 = np.linalg.det(A1) / np.linalg.det(A)\n",
    "b1 = np.linalg.det(A2) / np.linalg.det(A)\n",
    "b2 = np.linalg.det(A3) / np.linalg.det(A)\n",
    "\n",
    "#print the coeficient\n",
    "print(\"Intercept {}\".format(b0))\n",
    "print(\"X1 {}\".format(b1))\n",
    "print(\"X2 {}\".format(b2))"
   ]
  },
  {
   "cell_type": "code",
   "execution_count": 61,
   "metadata": {},
   "outputs": [],
   "source": [
    "#import statsmodels to compare the manual with package version. We are using OLS in this case\n",
    "import statsmodels.formula.api as smf"
   ]
  },
  {
   "cell_type": "code",
   "execution_count": 68,
   "metadata": {},
   "outputs": [],
   "source": [
    "regresi = smf.ols('Y ~ X1+X2', data=Data).fit()"
   ]
  },
  {
   "cell_type": "code",
   "execution_count": 69,
   "metadata": {},
   "outputs": [
    {
     "name": "stdout",
     "output_type": "stream",
     "text": [
      "                            OLS Regression Results                            \n",
      "==============================================================================\n",
      "Dep. Variable:                      Y   R-squared:                       0.933\n",
      "Model:                            OLS   Adj. R-squared:                  0.918\n",
      "Method:                 Least Squares   F-statistic:                     62.70\n",
      "Date:                Sat, 29 Dec 2018   Prob (F-statistic):           5.20e-06\n",
      "Time:                        17:29:35   Log-Likelihood:                -3.7696\n",
      "No. Observations:                  12   AIC:                             13.54\n",
      "Df Residuals:                       9   BIC:                             14.99\n",
      "Df Model:                           2                                         \n",
      "Covariance Type:            nonrobust                                         \n",
      "==============================================================================\n",
      "                 coef    std err          t      P>|t|      [0.025      0.975]\n",
      "------------------------------------------------------------------------------\n",
      "Intercept     -0.1865      0.658     -0.283      0.783      -1.676       1.303\n",
      "X1             0.8454      0.076     11.193      0.000       0.675       1.016\n",
      "X2             0.0324      0.051      0.639      0.539      -0.082       0.147\n",
      "==============================================================================\n",
      "Omnibus:                        0.763   Durbin-Watson:                   1.227\n",
      "Prob(Omnibus):                  0.683   Jarque-Bera (JB):                0.103\n",
      "Skew:                           0.226   Prob(JB):                        0.950\n",
      "Kurtosis:                       2.984   Cond. No.                         62.1\n",
      "==============================================================================\n",
      "\n",
      "Warnings:\n",
      "[1] Standard Errors assume that the covariance matrix of the errors is correctly specified.\n"
     ]
    },
    {
     "name": "stderr",
     "output_type": "stream",
     "text": [
      "C:\\Users\\windows10\\AppData\\Roaming\\Python\\Python36\\site-packages\\scipy\\stats\\stats.py:1416: UserWarning: kurtosistest only valid for n>=20 ... continuing anyway, n=12\n",
      "  \"anyway, n=%i\" % int(n))\n"
     ]
    }
   ],
   "source": [
    "#print the summary of the formula's result so we can compare it with the manual result. Just ignore the warning :D\n",
    "print(regresi.summary())"
   ]
  }
 ],
 "metadata": {
  "kernelspec": {
   "display_name": "Python 3",
   "language": "python",
   "name": "python3"
  },
  "language_info": {
   "codemirror_mode": {
    "name": "ipython",
    "version": 3
   },
   "file_extension": ".py",
   "mimetype": "text/x-python",
   "name": "python",
   "nbconvert_exporter": "python",
   "pygments_lexer": "ipython3",
   "version": "3.6.8rc1"
  }
 },
 "nbformat": 4,
 "nbformat_minor": 2
}
